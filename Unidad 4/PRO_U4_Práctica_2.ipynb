{
  "nbformat": 4,
  "nbformat_minor": 0,
  "metadata": {
    "colab": {
      "provenance": [],
      "authorship_tag": "ABX9TyO1MhPCUfDI1WAVF4Ni/BNb",
      "include_colab_link": true
    },
    "kernelspec": {
      "name": "python3",
      "display_name": "Python 3"
    },
    "language_info": {
      "name": "python"
    }
  },
  "cells": [
    {
      "cell_type": "markdown",
      "metadata": {
        "id": "view-in-github",
        "colab_type": "text"
      },
      "source": [
        "<a href=\"https://colab.research.google.com/github/JuanitoDav/Estadistica/blob/main/Unidad%204/PRO_U4_Pr%C3%A1ctica_2.ipynb\" target=\"_parent\"><img src=\"https://colab.research.google.com/assets/colab-badge.svg\" alt=\"Open In Colab\"/></a>"
      ]
    },
    {
      "cell_type": "markdown",
      "source": [
        "# INSTITUTO TECNOLÓGICO DE DURANGO\n",
        "****\n",
        "# Práctica 2 - Distribución Binomial (Unidad 4)\n",
        "\n",
        "**Nombre:** Juan David Pérez Martínez\n",
        "\n",
        "**Maestro:** José Gabriel Rodríguez Rivas\n",
        "\n",
        "**Materia:** Probabilidad y Estadística\n",
        "\n",
        "**Carrera:** Ingeniería en Sistemas Computacionales\n",
        "\n",
        "**Grupo:** 2YY"
      ],
      "metadata": {
        "id": "IxKkd--X_h57"
      }
    },
    {
      "cell_type": "markdown",
      "source": [
        "# Ejercicio 1"
      ],
      "metadata": {
        "id": "IsArrE7ZAQkq"
      }
    },
    {
      "cell_type": "code",
      "execution_count": null,
      "metadata": {
        "colab": {
          "base_uri": "https://localhost:8080/"
        },
        "id": "0OuXUxG_g-ng",
        "outputId": "013a552e-6595-4718-8892-26d29af4f1c3"
      },
      "outputs": [
        {
          "output_type": "stream",
          "name": "stdout",
          "text": [
            "La probabilidad de que ningún paciente sufra la enfermedad es:  0.0507282029895386\n"
          ]
        }
      ],
      "source": [
        "from scipy.stats import binom\n",
        "\n",
        "# Parámetros de la distribución binomial\n",
        "probabilidad_exito = 0.83\n",
        "num_pacientes = 16\n",
        "X = 16 # Número de éxitos\n",
        "\n",
        "# Calcular la probabilidad de que ningún paciente sufra la enfermedad\n",
        "probabilidad_ninguno_enfermo = binom.pmf(X, num_pacientes, probabilidad_exito)\n",
        "\n",
        "print(\"La probabilidad de que ningún paciente sufra la enfermedad es: \", probabilidad_ninguno_enfermo)"
      ]
    },
    {
      "cell_type": "code",
      "source": [
        "from scipy.stats import binom\n",
        "\n",
        "# Parámetros de la distribución binomial\n",
        "probabilidad_exito = 0.83\n",
        "num_pacientes = 16\n",
        "X = 0 # Número de éxitos\n",
        "\n",
        "# Calcular la probabilidad de que todos los pacientes sufran la enfermedad\n",
        "probabilidad_todos_enfermos = binom.pmf(X, num_pacientes, probabilidad_exito)\n",
        "\n",
        "print(\"La probabilidad de que todos los pacientes sufran la enfermedad es: \", probabilidad_todos_enfermos)"
      ],
      "metadata": {
        "colab": {
          "base_uri": "https://localhost:8080/"
        },
        "id": "4NFaInqGibN3",
        "outputId": "f4272e90-89dc-4bf4-bb97-9b7844549573"
      },
      "execution_count": null,
      "outputs": [
        {
          "output_type": "stream",
          "name": "stdout",
          "text": [
            "La probabilidad de que todos los pacientes sufran la enfermedad es:  4.866119187566701e-13\n"
          ]
        }
      ]
    },
    {
      "cell_type": "markdown",
      "source": [
        "# Ejercicio 2"
      ],
      "metadata": {
        "id": "DVLp652VBe3L"
      }
    },
    {
      "cell_type": "code",
      "source": [
        "from scipy.stats import binom\n",
        "\n",
        "# Parámetros de la distribución binomial\n",
        "n = 10\n",
        "p = 0.10\n",
        "x = 2\n",
        "\n",
        "# Calcular la probabilidad de la variable aleatoria X = 2\n",
        "probabilidad_x_2 = binom.pmf(x, n, p)\n",
        "\n",
        "print(\"La probabilidad de que la variable aleatoria X sea igual a 2 es: \", probabilidad_x_2)"
      ],
      "metadata": {
        "colab": {
          "base_uri": "https://localhost:8080/"
        },
        "id": "lQ612fxNBh1i",
        "outputId": "47bb75c0-b19e-4dd3-91e2-2d9c202c4dd3"
      },
      "execution_count": null,
      "outputs": [
        {
          "output_type": "stream",
          "name": "stdout",
          "text": [
            "La probabilidad de que la variable aleatoria X sea igual a 2 es:  0.19371024450000007\n"
          ]
        }
      ]
    },
    {
      "cell_type": "markdown",
      "source": [
        "# Ejercicio 3"
      ],
      "metadata": {
        "id": "OCdIZWddCOwR"
      }
    },
    {
      "cell_type": "code",
      "source": [
        "import numpy as np\n",
        "import matplotlib.pyplot as plt\n",
        "from scipy.stats import binom\n",
        "\n",
        "# Parámetros de la distribución Binomial\n",
        "n = 10\n",
        "p = 0.10\n",
        "\n",
        "# Calcular las probabilidades para cada valor de x de 0 a 10\n",
        "valores_x = np.arange(0, n + 1)\n",
        "probabilidades_x = [binom.pmf(x, n, p) for x in valores_x]\n",
        "\n",
        "# Imprimir la tabla de valores de x y sus probabilidades\n",
        "print(\"Valores de x\\tProbabilidades\")\n",
        "for x, probabilidad in zip(valores_x, probabilidades_x):\n",
        "    print(f\"{x}\\t\\t{probabilidad}\")"
      ],
      "metadata": {
        "colab": {
          "base_uri": "https://localhost:8080/"
        },
        "id": "aJo_QVw1CJPS",
        "outputId": "16926f5f-7809-47e1-c659-cacae147641e"
      },
      "execution_count": null,
      "outputs": [
        {
          "output_type": "stream",
          "name": "stdout",
          "text": [
            "Valores de x\tProbabilidades\n",
            "0\t\t0.34867844009999993\n",
            "1\t\t0.38742048899999965\n",
            "2\t\t0.19371024450000007\n",
            "3\t\t0.05739562799999998\n",
            "4\t\t0.01116026100000001\n",
            "5\t\t0.0014880347999999995\n",
            "6\t\t0.00013778100000000007\n",
            "7\t\t8.748000000000003e-06\n",
            "8\t\t3.6449999999999996e-07\n",
            "9\t\t8.999999999999995e-09\n",
            "10\t\t1.0000000000000006e-10\n"
          ]
        }
      ]
    },
    {
      "cell_type": "code",
      "source": [
        "import matplotlib.pyplot as plt\n",
        "\n",
        "# Graficar el histograma de la distribución binomial\n",
        "plt.figure(figsize = (8, 6))\n",
        "plt.bar(valores_x, probabilidades_x, color = 'skyblue')\n",
        "plt.title('Distribución binomial')\n",
        "plt.xlabel('Valor de X')\n",
        "plt.ylabel('Probabilidad')\n",
        "plt.xticks(valores_x)\n",
        "plt.grid(True)\n",
        "plt.show()"
      ],
      "metadata": {
        "id": "AcJVTm6olK93",
        "colab": {
          "base_uri": "https://localhost:8080/",
          "height": 564
        },
        "outputId": "11447bfd-ab30-438a-faca-3e6a13e87c42"
      },
      "execution_count": null,
      "outputs": [
        {
          "output_type": "display_data",
          "data": {
            "text/plain": [
              "<Figure size 800x600 with 1 Axes>"
            ],
            "image/png": "[encoded data removed]"
          },
          "metadata": {}
        }
      ]
    }
  ]
}