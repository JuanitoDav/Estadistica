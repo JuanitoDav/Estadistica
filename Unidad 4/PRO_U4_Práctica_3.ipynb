{
  "nbformat": 4,
  "nbformat_minor": 0,
  "metadata": {
    "colab": {
      "provenance": [],
      "authorship_tag": "ABX9TyNZJ0BTdXLl3GcBbyiLYwH5",
      "include_colab_link": true
    },
    "kernelspec": {
      "name": "python3",
      "display_name": "Python 3"
    },
    "language_info": {
      "name": "python"
    }
  },
  "cells": [
    {
      "cell_type": "markdown",
      "metadata": {
        "id": "view-in-github",
        "colab_type": "text"
      },
      "source": [
        "<a href=\"https://colab.research.google.com/github/JuanitoDav/Estadistica/blob/main/Unidad%204/PRO_U4_Pr%C3%A1ctica_3.ipynb\" target=\"_parent\"><img src=\"https://colab.research.google.com/assets/colab-badge.svg\" alt=\"Open In Colab\"/></a>"
      ]
    },
    {
      "cell_type": "markdown",
      "source": [
        "# INSTITUTO TECNOLÓGICO DE DURANGO\n",
        "****\n",
        "# Práctica 3 - Distribución Poisson (Unidad 4)\n",
        "\n",
        "**Nombre:** Juan David Pérez Martínez\n",
        "\n",
        "**Maestro:** José Gabriel Rodríguez Rivas\n",
        "\n",
        "**Materia:** Probabilidad y Estadística\n",
        "\n",
        "**Carrera:** Ingeniería en Sistemas Computacionales\n",
        "\n",
        "**Grupo:** 2YY"
      ],
      "metadata": {
        "id": "6h1A0uGdDtdK"
      }
    },
    {
      "cell_type": "markdown",
      "source": [
        "# Ejercicio 1"
      ],
      "metadata": {
        "id": "BL2GoytcGWZA"
      }
    },
    {
      "cell_type": "code",
      "execution_count": null,
      "metadata": {
        "id": "NGwoX6GfDpgs",
        "colab": {
          "base_uri": "https://localhost:8080/"
        },
        "outputId": "e56edf56-040e-49ca-f195-e73997c59678"
      },
      "outputs": [
        {
          "output_type": "stream",
          "name": "stdout",
          "text": [
            "1. Probabilidad de que no haya accidentes en 1 semana:  0.1353352832366127\n",
            "2. Probabilidad de que a lo sumo haya tres accidentes en 2 semanas:  0.43347012036670896\n"
          ]
        }
      ],
      "source": [
        "from scipy.stats import poisson\n",
        "\n",
        "# Parámetros de la distribución de Poisson\n",
        "media_accidentes = 2\n",
        "\n",
        "# Parte 1: Probabilidad de que no haya accidentes en 1 semana\n",
        "probabilidad_0_accidentes = poisson.pmf(0, media_accidentes)\n",
        "\n",
        "print(\"1. Probabilidad de que no haya accidentes en 1 semana: \", probabilidad_0_accidentes)\n",
        "\n",
        "# Parte 2: Probabilidad de que a lo sumo haya tres accidentes en 2 semanas\n",
        "# Convertimos la media a una media para 2 semanas\n",
        "media_2_semanas = media_accidentes * 2\n",
        "\n",
        "# Calculamos la probabilidad acumulada hasta 3 accidentes en 2 semanas\n",
        "probabilidad_3_o_menos_accidentes = poisson.cdf(3, media_2_semanas)\n",
        "\n",
        "print(\"2. Probabilidad de que a lo sumo haya tres accidentes en 2 semanas: \", probabilidad_3_o_menos_accidentes)"
      ]
    },
    {
      "cell_type": "markdown",
      "source": [
        "# Ejercicio 2"
      ],
      "metadata": {
        "id": "aaiIHbeVGYQo"
      }
    },
    {
      "cell_type": "code",
      "source": [
        "from scipy.stats import poisson\n",
        "\n",
        "# Parámetros de la distribución de Poisson\n",
        "media_muertes = 5000 * 0.001 # 5000 hombres con una probabilidad de muerte de 0.001\n",
        "\n",
        "# Número de reclamaciones\n",
        "x = 4\n",
        "\n",
        "# Calcular la probabilidad de que la compañía tenga que pagar 4 reclamaciones en un año determinado\n",
        "probabilidad_4_reclamaciones = poisson.pmf(x, media_muertes)\n",
        "\n",
        "print(\"La probabilidad de que la compañía tenga que pagar 4 reclamaciones es de: \", probabilidad_4_reclamaciones)"
      ],
      "metadata": {
        "colab": {
          "base_uri": "https://localhost:8080/"
        },
        "id": "rjLgv0v8FjGw",
        "outputId": "d6b0f485-2577-43c1-bafa-170c9325f69f"
      },
      "execution_count": null,
      "outputs": [
        {
          "output_type": "stream",
          "name": "stdout",
          "text": [
            "La probabilidad de que la compañía tenga que pagar 4 reclamaciones es de:  0.17546736976785063\n"
          ]
        }
      ]
    }
  ]
}