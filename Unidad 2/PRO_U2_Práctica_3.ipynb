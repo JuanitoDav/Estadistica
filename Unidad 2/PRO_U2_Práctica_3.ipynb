{
  "nbformat": 4,
  "nbformat_minor": 0,
  "metadata": {
    "colab": {
      "provenance": [],
      "authorship_tag": "ABX9TyNbqGH1//0n3hQ0OBtAW35i",
      "include_colab_link": true
    },
    "kernelspec": {
      "name": "python3",
      "display_name": "Python 3"
    },
    "language_info": {
      "name": "python"
    }
  },
  "cells": [
    {
      "cell_type": "markdown",
      "metadata": {
        "id": "view-in-github",
        "colab_type": "text"
      },
      "source": [
        "<a href=\"https://colab.research.google.com/github/JuanitoDav/Estadistica/blob/main/Unidad%202/PRO_U2_Pr%C3%A1ctica_3.ipynb\" target=\"_parent\"><img src=\"https://colab.research.google.com/assets/colab-badge.svg\" alt=\"Open In Colab\"/></a>"
      ]
    },
    {
      "cell_type": "markdown",
      "source": [
        "# INSTITUTO TECNOLÓGICO DE DURANGO\n",
        "****\n",
        "# Práctica 3 - Permutaciones de un examen (Unidad 2).\n",
        "**Nombre:** Juan David Pérez Martínez.\n",
        "\n",
        "**Profesor:** José Gabriel Rodríguez Rivas.\n",
        "\n",
        "**Materia:** Probabilidad y estadística.\n",
        "\n",
        "**Especialidad:** Ingeniería en Sistemas Computacionales.\n",
        "\n",
        "**Grupo:** 2YY."
      ],
      "metadata": {
        "id": "aNjZ8O-ei47D"
      }
    },
    {
      "cell_type": "code",
      "source": [
        "# Importamos la libreria math para utilizar el factorial\n",
        "import math as mt\n",
        "from itertools import permutations\n",
        "from itertools import product\n",
        "import numpy as np"
      ],
      "metadata": {
        "id": "AJx1jBu5jgI7"
      },
      "execution_count": null,
      "outputs": []
    },
    {
      "cell_type": "code",
      "source": [
        "asistentes = [1, 2, 3, 4, 5, 6, 7, 8, 9, 10]\n",
        "n = len(asistentes)\n",
        "# Número de preguntas\n",
        "r = 4\n",
        "\n",
        "permutaciones = mt.factorial(n) / (mt.factorial(n-r))\n",
        "\n",
        "print(f\"El número de permutaciones posibles es: {permutaciones}\")"
      ],
      "metadata": {
        "colab": {
          "base_uri": "https://localhost:8080/"
        },
        "id": "8LW6-8yEmVD7",
        "outputId": "2d7e5132-d8b7-4830-9905-5520cd5b32b8"
      },
      "execution_count": null,
      "outputs": [
        {
          "output_type": "stream",
          "name": "stdout",
          "text": [
            "El número de permutaciones posibles es: 5040.0\n"
          ]
        }
      ]
    }
  ]
}