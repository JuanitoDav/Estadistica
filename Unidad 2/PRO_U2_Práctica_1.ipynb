{
  "nbformat": 4,
  "nbformat_minor": 0,
  "metadata": {
    "colab": {
      "provenance": [],
      "authorship_tag": "ABX9TyO89cEy76rPrdipYOKB0rQQ",
      "include_colab_link": true
    },
    "kernelspec": {
      "name": "python3",
      "display_name": "Python 3"
    },
    "language_info": {
      "name": "python"
    }
  },
  "cells": [
    {
      "cell_type": "markdown",
      "metadata": {
        "id": "view-in-github",
        "colab_type": "text"
      },
      "source": [
        "<a href=\"https://colab.research.google.com/github/JuanitoDav/Estadistica/blob/main/Unidad%202/PRO_U2_Pr%C3%A1ctica_1.ipynb\" target=\"_parent\"><img src=\"https://colab.research.google.com/assets/colab-badge.svg\" alt=\"Open In Colab\"/></a>"
      ]
    },
    {
      "cell_type": "markdown",
      "source": [
        "# INSTITUTO TECNOLÓGICO DE DURANGO\n",
        "****\n",
        "# Práctica 1 - Combinaciones con repetición y sin repetición (Unidad 2).\n",
        "**Nombre:** Juan David Pérez Martínez.\n",
        "\n",
        "**Profesor:** José Gabriel Rodríguez Rivas.\n",
        "\n",
        "**Materia:** Probabilidad y estadística.\n",
        "\n",
        "**Especialidad:** Ingeniería en Sistemas Computacionales.\n",
        "\n",
        "**Grupo:** 2YY."
      ],
      "metadata": {
        "id": "NNgkMizq8xZy"
      }
    },
    {
      "cell_type": "code",
      "execution_count": null,
      "metadata": {
        "id": "35PGdcFb77O-"
      },
      "outputs": [],
      "source": [
        "# Importar la librería math para utilizar el factorial\n",
        "import math as mt\n",
        "from itertools import combinations\n",
        "from itertools import combinations_with_replacement\n",
        "import numpy as np"
      ]
    },
    {
      "cell_type": "code",
      "source": [
        "nombres = [\"Oscar\", \"Paco\", \"Paty\", \"Laura\", \"Rubén\", \"Luis\", \"Lucy\", \"Alberto\", \"Juan\", \"Danny\"]\n",
        "n = len(nombres)\n",
        "# ¿Cómo agrupar?\n",
        "r = 2\n",
        "\n",
        "Cn = mt.factorial(n) / (mt.factorial(r) * mt.factorial(n-r))\n",
        "\n",
        "print(\"Existen \", Cn, \" posibles combinaciones sin repetición del total de \", n, \" nombres en grupos de \", r, \" en \", r)\n",
        "\n",
        "print(\"Aquí las combinaciones\")\n",
        "combinaciones_nombres = list(combinations(nombres, r))\n",
        "\n",
        "# Imprime las combinaciones\n",
        "for combinacion in combinaciones_nombres:\n",
        "    print(combinacion)"
      ],
      "metadata": {
        "colab": {
          "base_uri": "https://localhost:8080/"
        },
        "id": "tyB_yHsK8wy7",
        "outputId": "7df08c80-f43e-4643-f71a-39d7b4710584"
      },
      "execution_count": null,
      "outputs": [
        {
          "output_type": "stream",
          "name": "stdout",
          "text": [
            "Existen  45.0  posibles combinaciones sin repetición del total de  10  nombres en grupos de  2  en  2\n",
            "Aquí las combinaciones\n",
            "('Oscar', 'Paco')\n",
            "('Oscar', 'Paty')\n",
            "('Oscar', 'Laura')\n",
            "('Oscar', 'Rubén')\n",
            "('Oscar', 'Luis')\n",
            "('Oscar', 'Lucy')\n",
            "('Oscar', 'Alberto')\n",
            "('Oscar', 'Juan')\n",
            "('Oscar', 'Danny')\n",
            "('Paco', 'Paty')\n",
            "('Paco', 'Laura')\n",
            "('Paco', 'Rubén')\n",
            "('Paco', 'Luis')\n",
            "('Paco', 'Lucy')\n",
            "('Paco', 'Alberto')\n",
            "('Paco', 'Juan')\n",
            "('Paco', 'Danny')\n",
            "('Paty', 'Laura')\n",
            "('Paty', 'Rubén')\n",
            "('Paty', 'Luis')\n",
            "('Paty', 'Lucy')\n",
            "('Paty', 'Alberto')\n",
            "('Paty', 'Juan')\n",
            "('Paty', 'Danny')\n",
            "('Laura', 'Rubén')\n",
            "('Laura', 'Luis')\n",
            "('Laura', 'Lucy')\n",
            "('Laura', 'Alberto')\n",
            "('Laura', 'Juan')\n",
            "('Laura', 'Danny')\n",
            "('Rubén', 'Luis')\n",
            "('Rubén', 'Lucy')\n",
            "('Rubén', 'Alberto')\n",
            "('Rubén', 'Juan')\n",
            "('Rubén', 'Danny')\n",
            "('Luis', 'Lucy')\n",
            "('Luis', 'Alberto')\n",
            "('Luis', 'Juan')\n",
            "('Luis', 'Danny')\n",
            "('Lucy', 'Alberto')\n",
            "('Lucy', 'Juan')\n",
            "('Lucy', 'Danny')\n",
            "('Alberto', 'Juan')\n",
            "('Alberto', 'Danny')\n",
            "('Juan', 'Danny')\n"
          ]
        }
      ]
    },
    {
      "cell_type": "code",
      "source": [
        "caracteres = [\"A\", \"B\", \"C\", \"D\", \"E\", \"F\", \"0\", \"1\", \"2\", \"3\", \"4\", \"5\"]\n",
        "n = len(caracteres)\n",
        "# ¿Cómo agrupar?\n",
        "r = 10\n",
        "\n",
        "Cn = mt.factorial(n) / (mt.factorial(r) * mt.factorial(n-r))\n",
        "\n",
        "\n",
        "print(\"Existen \", Cn, \" posibles combinaciones sin repetición del total de \", n, \" caracteres en grupos de \", r, \" en \", r)\n",
        "\n",
        "print(\"Aquí las combinaciones\")\n",
        "combinaciones_caracteres = list(combinations(caracteres, r))\n",
        "\n",
        "# Imprime las combinaciones\n",
        "for combinacion in combinaciones_caracteres:\n",
        "    print(combinacion)"
      ],
      "metadata": {
        "colab": {
          "base_uri": "https://localhost:8080/"
        },
        "id": "_5JdxZJU-gnj",
        "outputId": "b607be37-7686-4cfa-f3b3-d2f5f22a2bee"
      },
      "execution_count": null,
      "outputs": [
        {
          "output_type": "stream",
          "name": "stdout",
          "text": [
            "Existen  66.0  posibles combinaciones sin repetición del total de  12  caracteres en grupos de  10  en  10\n",
            "Aquí las combinaciones\n",
            "('A', 'B', 'C', 'D', 'E', 'F', '0', '1', '2', '3')\n",
            "('A', 'B', 'C', 'D', 'E', 'F', '0', '1', '2', '4')\n",
            "('A', 'B', 'C', 'D', 'E', 'F', '0', '1', '2', '5')\n",
            "('A', 'B', 'C', 'D', 'E', 'F', '0', '1', '3', '4')\n",
            "('A', 'B', 'C', 'D', 'E', 'F', '0', '1', '3', '5')\n",
            "('A', 'B', 'C', 'D', 'E', 'F', '0', '1', '4', '5')\n",
            "('A', 'B', 'C', 'D', 'E', 'F', '0', '2', '3', '4')\n",
            "('A', 'B', 'C', 'D', 'E', 'F', '0', '2', '3', '5')\n",
            "('A', 'B', 'C', 'D', 'E', 'F', '0', '2', '4', '5')\n",
            "('A', 'B', 'C', 'D', 'E', 'F', '0', '3', '4', '5')\n",
            "('A', 'B', 'C', 'D', 'E', 'F', '1', '2', '3', '4')\n",
            "('A', 'B', 'C', 'D', 'E', 'F', '1', '2', '3', '5')\n",
            "('A', 'B', 'C', 'D', 'E', 'F', '1', '2', '4', '5')\n",
            "('A', 'B', 'C', 'D', 'E', 'F', '1', '3', '4', '5')\n",
            "('A', 'B', 'C', 'D', 'E', 'F', '2', '3', '4', '5')\n",
            "('A', 'B', 'C', 'D', 'E', '0', '1', '2', '3', '4')\n",
            "('A', 'B', 'C', 'D', 'E', '0', '1', '2', '3', '5')\n",
            "('A', 'B', 'C', 'D', 'E', '0', '1', '2', '4', '5')\n",
            "('A', 'B', 'C', 'D', 'E', '0', '1', '3', '4', '5')\n",
            "('A', 'B', 'C', 'D', 'E', '0', '2', '3', '4', '5')\n",
            "('A', 'B', 'C', 'D', 'E', '1', '2', '3', '4', '5')\n",
            "('A', 'B', 'C', 'D', 'F', '0', '1', '2', '3', '4')\n",
            "('A', 'B', 'C', 'D', 'F', '0', '1', '2', '3', '5')\n",
            "('A', 'B', 'C', 'D', 'F', '0', '1', '2', '4', '5')\n",
            "('A', 'B', 'C', 'D', 'F', '0', '1', '3', '4', '5')\n",
            "('A', 'B', 'C', 'D', 'F', '0', '2', '3', '4', '5')\n",
            "('A', 'B', 'C', 'D', 'F', '1', '2', '3', '4', '5')\n",
            "('A', 'B', 'C', 'D', '0', '1', '2', '3', '4', '5')\n",
            "('A', 'B', 'C', 'E', 'F', '0', '1', '2', '3', '4')\n",
            "('A', 'B', 'C', 'E', 'F', '0', '1', '2', '3', '5')\n",
            "('A', 'B', 'C', 'E', 'F', '0', '1', '2', '4', '5')\n",
            "('A', 'B', 'C', 'E', 'F', '0', '1', '3', '4', '5')\n",
            "('A', 'B', 'C', 'E', 'F', '0', '2', '3', '4', '5')\n",
            "('A', 'B', 'C', 'E', 'F', '1', '2', '3', '4', '5')\n",
            "('A', 'B', 'C', 'E', '0', '1', '2', '3', '4', '5')\n",
            "('A', 'B', 'C', 'F', '0', '1', '2', '3', '4', '5')\n",
            "('A', 'B', 'D', 'E', 'F', '0', '1', '2', '3', '4')\n",
            "('A', 'B', 'D', 'E', 'F', '0', '1', '2', '3', '5')\n",
            "('A', 'B', 'D', 'E', 'F', '0', '1', '2', '4', '5')\n",
            "('A', 'B', 'D', 'E', 'F', '0', '1', '3', '4', '5')\n",
            "('A', 'B', 'D', 'E', 'F', '0', '2', '3', '4', '5')\n",
            "('A', 'B', 'D', 'E', 'F', '1', '2', '3', '4', '5')\n",
            "('A', 'B', 'D', 'E', '0', '1', '2', '3', '4', '5')\n",
            "('A', 'B', 'D', 'F', '0', '1', '2', '3', '4', '5')\n",
            "('A', 'B', 'E', 'F', '0', '1', '2', '3', '4', '5')\n",
            "('A', 'C', 'D', 'E', 'F', '0', '1', '2', '3', '4')\n",
            "('A', 'C', 'D', 'E', 'F', '0', '1', '2', '3', '5')\n",
            "('A', 'C', 'D', 'E', 'F', '0', '1', '2', '4', '5')\n",
            "('A', 'C', 'D', 'E', 'F', '0', '1', '3', '4', '5')\n",
            "('A', 'C', 'D', 'E', 'F', '0', '2', '3', '4', '5')\n",
            "('A', 'C', 'D', 'E', 'F', '1', '2', '3', '4', '5')\n",
            "('A', 'C', 'D', 'E', '0', '1', '2', '3', '4', '5')\n",
            "('A', 'C', 'D', 'F', '0', '1', '2', '3', '4', '5')\n",
            "('A', 'C', 'E', 'F', '0', '1', '2', '3', '4', '5')\n",
            "('A', 'D', 'E', 'F', '0', '1', '2', '3', '4', '5')\n",
            "('B', 'C', 'D', 'E', 'F', '0', '1', '2', '3', '4')\n",
            "('B', 'C', 'D', 'E', 'F', '0', '1', '2', '3', '5')\n",
            "('B', 'C', 'D', 'E', 'F', '0', '1', '2', '4', '5')\n",
            "('B', 'C', 'D', 'E', 'F', '0', '1', '3', '4', '5')\n",
            "('B', 'C', 'D', 'E', 'F', '0', '2', '3', '4', '5')\n",
            "('B', 'C', 'D', 'E', 'F', '1', '2', '3', '4', '5')\n",
            "('B', 'C', 'D', 'E', '0', '1', '2', '3', '4', '5')\n",
            "('B', 'C', 'D', 'F', '0', '1', '2', '3', '4', '5')\n",
            "('B', 'C', 'E', 'F', '0', '1', '2', '3', '4', '5')\n",
            "('B', 'D', 'E', 'F', '0', '1', '2', '3', '4', '5')\n",
            "('C', 'D', 'E', 'F', '0', '1', '2', '3', '4', '5')\n"
          ]
        }
      ]
    },
    {
      "cell_type": "code",
      "source": [
        "dado = [1, 2, 3, 4, 5, 6]\n",
        "n = len(dado)\n",
        "# ¿Cómo agrupar? De dos en dos porque hay dos dados\n",
        "r = 2\n",
        "\n",
        "Cn = mt.factorial(n + r - 1) / (mt.factorial(r) * mt.factorial((n + r - 1) - r))\n",
        "\n",
        "print(\"Existen \", Cn, \" posibles combinaciones sin repetición del total de \", n, \" caracteres  en grupos de \", r, \" en \", r)\n",
        "print(\"Aquí las combinaciones con repetición de dos dados\")\n",
        "\n",
        "# Definimos el conjunto de elementos\n",
        "elementos = [1, 2, 3, 4, 5, 6]\n",
        "\n",
        "# Número de elementos a elegir en cada combinación\n",
        "r = 2\n",
        "\n",
        "# Calcular las combinaciones con repetición\n",
        "combinaciones = list(combinations_with_replacement(dado, r))\n",
        "\n",
        "# Imprimir las combinaciones\n",
        "for combinacion in combinaciones:\n",
        "    print(combinacion)\n",
        "\n",
        "# Imprimir las combinaciones\n",
        "for combinacion in combinaciones:\n",
        "    print(combinacion)"
      ],
      "metadata": {
        "colab": {
          "base_uri": "https://localhost:8080/"
        },
        "id": "5nE5yWSI_Phr",
        "outputId": "e0302013-7198-4e90-b678-402120519023"
      },
      "execution_count": null,
      "outputs": [
        {
          "output_type": "stream",
          "name": "stdout",
          "text": [
            "Existen  21.0  posibles combinaciones sin repetición del total de  6  caracteres  en grupos de  2  en  2\n",
            "Aquí las combinaciones con repetición de dos dados\n",
            "(1, 1)\n",
            "(1, 2)\n",
            "(1, 3)\n",
            "(1, 4)\n",
            "(1, 5)\n",
            "(1, 6)\n",
            "(2, 2)\n",
            "(2, 3)\n",
            "(2, 4)\n",
            "(2, 5)\n",
            "(2, 6)\n",
            "(3, 3)\n",
            "(3, 4)\n",
            "(3, 5)\n",
            "(3, 6)\n",
            "(4, 4)\n",
            "(4, 5)\n",
            "(4, 6)\n",
            "(5, 5)\n",
            "(5, 6)\n",
            "(6, 6)\n",
            "(1, 1)\n",
            "(1, 2)\n",
            "(1, 3)\n",
            "(1, 4)\n",
            "(1, 5)\n",
            "(1, 6)\n",
            "(2, 2)\n",
            "(2, 3)\n",
            "(2, 4)\n",
            "(2, 5)\n",
            "(2, 6)\n",
            "(3, 3)\n",
            "(3, 4)\n",
            "(3, 5)\n",
            "(3, 6)\n",
            "(4, 4)\n",
            "(4, 5)\n",
            "(4, 6)\n",
            "(5, 5)\n",
            "(5, 6)\n",
            "(6, 6)\n"
          ]
        }
      ]
    }
  ]
}