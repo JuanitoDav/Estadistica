{
  "nbformat": 4,
  "nbformat_minor": 0,
  "metadata": {
    "colab": {
      "provenance": [],
      "authorship_tag": "ABX9TyP8JnWaCNxvcJT1Dq7kfBIP",
      "include_colab_link": true
    },
    "kernelspec": {
      "name": "python3",
      "display_name": "Python 3"
    },
    "language_info": {
      "name": "python"
    }
  },
  "cells": [
    {
      "cell_type": "markdown",
      "metadata": {
        "id": "view-in-github",
        "colab_type": "text"
      },
      "source": [
        "<a href=\"https://colab.research.google.com/github/JuanitoDav/Estadistica/blob/main/Unidad%201/PRO_U1_Pr%C3%A1ctica_1.ipynb\" target=\"_parent\"><img src=\"https://colab.research.google.com/assets/colab-badge.svg\" alt=\"Open In Colab\"/></a>"
      ]
    },
    {
      "cell_type": "markdown",
      "source": [
        "# **INSTITUTO TECNOLÓGICO DE DURANGO**\n",
        "****\n",
        "**Nombre:** Juan David Pérez Martínez.\n",
        "\n",
        "**Maestro:** José Gabriel Rodríguez Rivas.\n",
        "\n",
        "**Materia:** Probabilidad y Estadística.\n",
        "\n",
        "**Especialidad:** Ingeniería en Sistemas Computacionales.\n",
        "\n",
        "**Grupo:** 2YY.\n"
      ],
      "metadata": {
        "id": "E9MEY_EZl7xZ"
      }
    },
    {
      "cell_type": "code",
      "execution_count": null,
      "metadata": {
        "colab": {
          "base_uri": "https://localhost:8080/"
        },
        "id": "2JPOAKaUdaHp",
        "outputId": "b1110202-570a-40fc-c78a-47085d688cbb"
      },
      "outputs": [
        {
          "output_type": "stream",
          "name": "stdout",
          "text": [
            "[70, 70, 65, 90, 100, 95, 45, 80, 73, 20, 100, 96]\n",
            "75.33333333333333\n",
            "75.33333333333333\n",
            "76.5\n",
            "70\n"
          ]
        }
      ],
      "source": [
        "from statistics import *\n",
        "\n",
        "# Lista de calificaciones del grupo A de probabilidad y estadística.\n",
        "grupoa = [70, 70, 65, 90, 100, 95, 45, 80, 73, 20, 100, 96]\n",
        "print(grupoa)\n",
        "\n",
        "# La función type nos devuelve el tipo de dato de la variable.\n",
        "type(grupoa)\n",
        "\n",
        "# Sacar la media de las calificaciones con una fórmula.\n",
        "# Len es el número de elementos de la lista.\n",
        "promedio = sum(grupoa)/len(grupoa)\n",
        "print(promedio)\n",
        "\n",
        "# Utilizar la función mean que está en la librería statistics para sacar el promedio.\n",
        "\n",
        "promedio2 = mean(grupoa)\n",
        "print(promedio2)\n",
        "\n",
        "# Determinar el valor de la mediana con la función median.\n",
        "mediana = median(grupoa)\n",
        "print(mediana)\n",
        "\n",
        "# Determinar el valor de la moda con la función mode.\n",
        "moda = mode(grupoa)\n",
        "print(moda)"
      ]
    },
    {
      "cell_type": "code",
      "source": [
        "# En caso de que exista más de una moda, se puede emplear la función multimode.\n",
        "moda2 = multimode(grupoa)\n",
        "print(moda2)"
      ],
      "metadata": {
        "colab": {
          "base_uri": "https://localhost:8080/"
        },
        "id": "boI5xCaKjKeD",
        "outputId": "7106a647-31e3-4090-f074-42c992514f05"
      },
      "execution_count": null,
      "outputs": [
        {
          "output_type": "stream",
          "name": "stdout",
          "text": [
            "[70, 100]\n"
          ]
        }
      ]
    },
    {
      "cell_type": "code",
      "source": [
        "# Definimos una variable llamada tiempos100mts de tipo lista, que contiene los tiempos que tardaron los 10 alumnos para correr los 100 metros.\n",
        "tiempos100mts = [15.10, 17.20, 14.69, 13.27, 22.15, 18.71, 19.15, 20.65, 15.10, 17.20]\n",
        "\n",
        "#Desplegamos los valores de la lista.\n",
        "print(tiempos100mts)"
      ],
      "metadata": {
        "colab": {
          "base_uri": "https://localhost:8080/"
        },
        "id": "xOMP9PJGjRMT",
        "outputId": "245ef359-e577-4618-df90-6794ebefd189"
      },
      "execution_count": null,
      "outputs": [
        {
          "output_type": "stream",
          "name": "stdout",
          "text": [
            "[15.1, 17.2, 14.69, 13.27, 22.15, 18.71, 19.15, 20.65, 15.1, 17.2]\n"
          ]
        }
      ]
    },
    {
      "cell_type": "code",
      "source": [
        "# Usamos la función mean para determinar el tiempo de la lista de valores.\n",
        "print(\"El tiempo promedio de los corredores es: \", mean(tiempos100mts))"
      ],
      "metadata": {
        "colab": {
          "base_uri": "https://localhost:8080/"
        },
        "id": "MKy3SdO5jRVT",
        "outputId": "5295c991-4f94-4201-8f0b-5a3a02523df9"
      },
      "execution_count": null,
      "outputs": [
        {
          "output_type": "stream",
          "name": "stdout",
          "text": [
            "El tiempo promedio de los corredores es:  17.322\n"
          ]
        }
      ]
    },
    {
      "cell_type": "code",
      "source": [
        "# Usamos la función median para determinar el tiempo promedio de la lista de valores.\n",
        "# Definimos una variable llamada mediana para calcular la mediana de la lista con la función median.\n",
        "mediana = median(tiempos100mts)\n",
        "print(\"El tiempo promedio de los corredores es:\", mediana)"
      ],
      "metadata": {
        "colab": {
          "base_uri": "https://localhost:8080/"
        },
        "id": "1NYamZ6hjRdh",
        "outputId": "525e6f29-5a53-4588-f8cf-7635f37c6c81"
      },
      "execution_count": null,
      "outputs": [
        {
          "output_type": "stream",
          "name": "stdout",
          "text": [
            "El tiempo promedio de los corredores es: 17.2\n"
          ]
        }
      ]
    },
    {
      "cell_type": "code",
      "source": [
        "moda = mode(tiempos100mts)\n",
        "print(\"La moda de los tiempos es: \", moda)"
      ],
      "metadata": {
        "colab": {
          "base_uri": "https://localhost:8080/"
        },
        "id": "IB0MdBBBjRky",
        "outputId": "7ecd7409-bd91-4a10-d8d2-d545ac927e64"
      },
      "execution_count": null,
      "outputs": [
        {
          "output_type": "stream",
          "name": "stdout",
          "text": [
            "La moda de los tiempos es:  15.1\n"
          ]
        }
      ]
    },
    {
      "cell_type": "code",
      "source": [
        "multimoda = multimode(tiempos100mts)\n",
        "print(\"La multimoda de los tiempos es: \", multimode)"
      ],
      "metadata": {
        "colab": {
          "base_uri": "https://localhost:8080/"
        },
        "id": "H4VNtsnHjRsy",
        "outputId": "6b97752c-ea6a-4f13-f827-88bf6b0707d6"
      },
      "execution_count": null,
      "outputs": [
        {
          "output_type": "stream",
          "name": "stdout",
          "text": [
            "La multimoda de los tiempos es:  <function multimode at 0x7ef9ec5f7420>\n"
          ]
        }
      ]
    },
    {
      "cell_type": "code",
      "source": [
        "# Librería para generar números aleatorios.\n",
        "import random\n",
        "\n",
        "fabrica1 = []\n",
        "for i in range(100):\n",
        "  numero_aleatorio = round(random.uniform(50, 100), 2)\n",
        "  fabrica1.append(numero_aleatorio)\n",
        "print(fabrica1)"
      ],
      "metadata": {
        "colab": {
          "base_uri": "https://localhost:8080/"
        },
        "id": "KKHSwughjR05",
        "outputId": "6c8a4baf-4a05-4ef0-c022-98340ba29a7f"
      },
      "execution_count": null,
      "outputs": [
        {
          "output_type": "stream",
          "name": "stdout",
          "text": [
            "[88.05, 77.88, 58.33, 85.45, 60.24, 87.05, 90.5, 78.7, 85.91, 63.38, 70.52, 84.81, 60.01, 68.77, 78.05, 99.18, 86.01, 66.0, 67.35, 78.29, 79.75, 68.05, 75.78, 81.61, 59.67, 66.92, 65.79, 50.05, 75.19, 59.8, 77.17, 85.53, 99.61, 76.36, 67.98, 53.59, 57.26, 52.15, 53.21, 73.22, 73.43, 57.4, 90.05, 77.31, 69.3, 53.61, 74.59, 63.51, 91.57, 58.38, 75.74, 95.58, 72.68, 61.53, 69.54, 75.95, 50.81, 56.65, 84.14, 77.43, 52.76, 91.94, 84.52, 61.11, 75.85, 57.9, 78.52, 87.1, 85.5, 98.19, 90.51, 93.55, 60.16, 64.47, 67.3, 56.01, 94.28, 86.2, 53.94, 90.79, 91.56, 82.95, 69.24, 92.72, 59.67, 98.52, 51.63, 73.96, 75.07, 91.8, 74.36, 60.13, 75.88, 72.9, 58.35, 71.76, 50.55, 71.27, 61.65, 65.36]\n"
          ]
        }
      ]
    },
    {
      "cell_type": "code",
      "source": [
        "fabrica2 = []\n",
        "for i in range(100):\n",
        "  numero_aleatorio = round(random.uniform(50, 100), 2)\n",
        "  fabrica2.append(numero_aleatorio)\n",
        "print(fabrica2)"
      ],
      "metadata": {
        "colab": {
          "base_uri": "https://localhost:8080/"
        },
        "id": "UOWiFBfBkn-O",
        "outputId": "5b8c2912-e581-4e71-ef7e-26128d962fb5"
      },
      "execution_count": null,
      "outputs": [
        {
          "output_type": "stream",
          "name": "stdout",
          "text": [
            "[56.45, 94.07, 78.99, 67.36, 60.23, 55.39, 78.2, 88.82, 59.07, 60.34, 80.4, 99.95, 75.82, 54.29, 57.94, 67.42, 80.48, 82.64, 68.42, 72.06, 79.8, 94.25, 95.41, 94.97, 63.63, 90.79, 85.31, 87.95, 80.89, 53.54, 58.24, 57.93, 80.6, 64.74, 51.32, 89.78, 53.31, 51.16, 70.75, 84.18, 63.24, 59.27, 51.02, 96.98, 63.13, 94.0, 85.19, 54.96, 96.82, 63.1, 82.9, 51.4, 94.16, 90.77, 58.12, 61.64, 94.57, 75.07, 73.24, 90.37, 97.46, 99.5, 97.98, 86.67, 88.92, 81.35, 74.23, 88.86, 92.86, 74.07, 88.98, 78.28, 64.29, 64.88, 94.21, 86.75, 78.72, 56.16, 94.77, 75.93, 77.02, 57.9, 69.69, 52.56, 55.66, 61.94, 57.27, 84.3, 85.33, 73.88, 71.53, 72.05, 60.53, 66.84, 94.64, 68.96, 51.26, 78.5, 80.63, 88.38]\n"
          ]
        }
      ]
    },
    {
      "cell_type": "code",
      "source": [
        "# Librería de Python para graficar valores\n",
        "import matplotlib.pyplot as plt\n",
        "\n",
        "plt.hist(fabrica1)\n",
        "plt.title(\"Producción diaria de la fábrica 1\")"
      ],
      "metadata": {
        "colab": {
          "base_uri": "https://localhost:8080/",
          "height": 469
        },
        "id": "SYv3_OgRkoPM",
        "outputId": "d8611f4e-dbca-44c9-fb53-3cd7f8573092"
      },
      "execution_count": null,
      "outputs": [
        {
          "output_type": "execute_result",
          "data": {
            "text/plain": [
              "Text(0.5, 1.0, 'Producción diaria de la fábrica 1')"
            ]
          },
          "metadata": {},
          "execution_count": 93
        },
        {
          "output_type": "display_data",
          "data": {
            "text/plain": [
              "<Figure size 640x480 with 1 Axes>"
            ],
            "image/png": "[encoded data removed]"
          },
          "metadata": {}
        }
      ]
    },
    {
      "cell_type": "code",
      "source": [
        "plt.hist(fabrica2)\n",
        "plt.title(\"Producción diaria de la fábrica 2\")"
      ],
      "metadata": {
        "colab": {
          "base_uri": "https://localhost:8080/",
          "height": 469
        },
        "id": "zpH97ohRkol6",
        "outputId": "1e14827b-ba78-423a-bd5b-ca91a66320b6"
      },
      "execution_count": null,
      "outputs": [
        {
          "output_type": "execute_result",
          "data": {
            "text/plain": [
              "Text(0.5, 1.0, 'Producción diaria de la fábrica 2')"
            ]
          },
          "metadata": {},
          "execution_count": 94
        },
        {
          "output_type": "display_data",
          "data": {
            "text/plain": [
              "<Figure size 640x480 with 1 Axes>"
            ],
            "image/png": "[encoded data removed]"
          },
          "metadata": {}
        }
      ]
    },
    {
      "cell_type": "code",
      "source": [
        "media1 = mean(fabrica1)\n",
        "mediana1 = median(fabrica1)\n",
        "moda1 = mode(fabrica1)\n",
        "\n",
        "print(\"Valores de la fábrica 1\")\n",
        "print(\"La media es: \", media1)\n",
        "print(\"La mediana es: \", mediana1)\n",
        "print(\"La moda es: \", moda1)"
      ],
      "metadata": {
        "colab": {
          "base_uri": "https://localhost:8080/"
        },
        "id": "xzjYrKOWmLT5",
        "outputId": "d50e0983-f255-4ac8-931b-d6b30d16c45c"
      },
      "execution_count": null,
      "outputs": [
        {
          "output_type": "stream",
          "name": "stdout",
          "text": [
            "Valores de la fábrica 1\n",
            "La media es:  73.223\n",
            "La mediana es:  73.695\n",
            "La moda es:  59.67\n"
          ]
        }
      ]
    },
    {
      "cell_type": "code",
      "source": [
        "media2 = mean(fabrica2)\n",
        "mediana2 = median(fabrica2)\n",
        "moda2 = mode(fabrica2)\n",
        "\n",
        "print(\"Valores de la fábrica 2\")\n",
        "print(\"La media es: \", media2)\n",
        "print(\"La mediana es: \", mediana2)\n",
        "print(\"La moda es: \", moda2)"
      ],
      "metadata": {
        "colab": {
          "base_uri": "https://localhost:8080/"
        },
        "id": "6Gms7syanMb7",
        "outputId": "77ff4b06-d637-4056-de51-1b0f3a739a39"
      },
      "execution_count": null,
      "outputs": [
        {
          "output_type": "stream",
          "name": "stdout",
          "text": [
            "Valores de la fábrica 2\n",
            "La media es:  75.0058\n",
            "La mediana es:  75.875\n",
            "La moda es:  56.45\n"
          ]
        }
      ]
    },
    {
      "cell_type": "code",
      "source": [
        "# Genera 2 subplot de un renglón por 2 columnas para desplegar los 2 histogramas, una a lado de la otra.\n",
        "fig, (ax1, ax2) = plt.subplots(nrows = 1, ncols = 2, figsize = (10, 5))\n",
        "ax1.hist(fabrica1)\n",
        "ax2.hist(fabrica2)\n",
        "plt.show"
      ],
      "metadata": {
        "colab": {
          "base_uri": "https://localhost:8080/",
          "height": 615
        },
        "id": "14eTckumnv45",
        "outputId": "3076b45c-c5c0-4f5f-ab5b-ac0b225db9a6"
      },
      "execution_count": null,
      "outputs": [
        {
          "output_type": "execute_result",
          "data": {
            "text/plain": [
              "<function matplotlib.pyplot.show(close=None, block=None)>"
            ],
            "text/html": [
              "<div style=\"max-width:800px; border: 1px solid var(--colab-border-color);\"><style>\n",
              "      pre.function-repr-contents {\n",
              "        overflow-x: auto;\n",
              "        padding: 8px 12px;\n",
              "        max-height: 500px;\n",
              "      }\n",
              "\n",
              "      pre.function-repr-contents.function-repr-contents-collapsed {\n",
              "        cursor: pointer;\n",
              "        max-height: 100px;\n",
              "      }\n",
              "    </style>\n",
              "    <pre style=\"white-space: initial; background:\n",
              "         var(--colab-secondary-surface-color); padding: 8px 12px;\n",
              "         border-bottom: 1px solid var(--colab-border-color);\"><b>matplotlib.pyplot.show</b><br/>def show(*args, **kwargs) -&gt; None</pre><pre class=\"function-repr-contents function-repr-contents-collapsed\" style=\"\"><a class=\"filepath\" style=\"display:none\" href=\"#\">/usr/local/lib/python3.11/dist-packages/matplotlib/pyplot.py</a>Display all open figures.\n",
              "\n",
              "Parameters\n",
              "----------\n",
              "block : bool, optional\n",
              "    Whether to wait for all figures to be closed before returning.\n",
              "\n",
              "    If `True` block and run the GUI main loop until all figure windows\n",
              "    are closed.\n",
              "\n",
              "    If `False` ensure that all figure windows are displayed and return\n",
              "    immediately.  In this case, you are responsible for ensuring\n",
              "    that the event loop is running to have responsive figures.\n",
              "\n",
              "    Defaults to True in non-interactive mode and to False in interactive\n",
              "    mode (see `.pyplot.isinteractive`).\n",
              "\n",
              "See Also\n",
              "--------\n",
              "ion : Enable interactive mode, which shows / updates the figure after\n",
              "      every plotting command, so that calling ``show()`` is not necessary.\n",
              "ioff : Disable interactive mode.\n",
              "savefig : Save the figure to an image file instead of showing it on screen.\n",
              "\n",
              "Notes\n",
              "-----\n",
              "**Saving figures to file and showing a window at the same time**\n",
              "\n",
              "If you want an image file as well as a user interface window, use\n",
              "`.pyplot.savefig` before `.pyplot.show`. At the end of (a blocking)\n",
              "``show()`` the figure is closed and thus unregistered from pyplot. Calling\n",
              "`.pyplot.savefig` afterwards would save a new and thus empty figure. This\n",
              "limitation of command order does not apply if the show is non-blocking or\n",
              "if you keep a reference to the figure and use `.Figure.savefig`.\n",
              "\n",
              "**Auto-show in jupyter notebooks**\n",
              "\n",
              "The jupyter backends (activated via ``%matplotlib inline``,\n",
              "``%matplotlib notebook``, or ``%matplotlib widget``), call ``show()`` at\n",
              "the end of every cell by default. Thus, you usually don&#x27;t have to call it\n",
              "explicitly there.</pre>\n",
              "      <script>\n",
              "      if (google.colab.kernel.accessAllowed && google.colab.files && google.colab.files.view) {\n",
              "        for (const element of document.querySelectorAll('.filepath')) {\n",
              "          element.style.display = 'block'\n",
              "          element.onclick = (event) => {\n",
              "            event.preventDefault();\n",
              "            event.stopPropagation();\n",
              "            google.colab.files.view(element.textContent, 569);\n",
              "          };\n",
              "        }\n",
              "      }\n",
              "      for (const element of document.querySelectorAll('.function-repr-contents')) {\n",
              "        element.onclick = (event) => {\n",
              "          event.preventDefault();\n",
              "          event.stopPropagation();\n",
              "          element.classList.toggle('function-repr-contents-collapsed');\n",
              "        };\n",
              "      }\n",
              "      </script>\n",
              "      </div>"
            ]
          },
          "metadata": {},
          "execution_count": 97
        },
        {
          "output_type": "display_data",
          "data": {
            "text/plain": [
              "<Figure size 1000x500 with 2 Axes>"
            ],
            "image/png": "[encoded data removed]"
          },
          "metadata": {}
        }
      ]
    },
    {
      "cell_type": "code",
      "source": [
        "plt.hist(fabrica1, bins = 10, alpha = 0.2, color = 'b', edgecolor = \"black\")\n",
        "plt.axvline(media1, color = 'b', linestyle = 'dashed', linewidth = 2, label = 'Media')\n",
        "plt.axvline(mediana1, color = 'r', linestyle = 'dashed', linewidth = 2, label = 'Mediana')\n",
        "plt.axvline(moda1, color = 'y', linestyle = 'dashed', linewidth = 2, label = 'Moda')\n",
        "plt.xlabel('Valor')\n",
        "plt.ylabel('Frecuencia')\n",
        "plt.title(\"Producción diaria de la fábrica 1\")\n",
        "plt.legend()\n",
        "plt.show()"
      ],
      "metadata": {
        "colab": {
          "base_uri": "https://localhost:8080/",
          "height": 472
        },
        "id": "WyrI-Gb3oXbJ",
        "outputId": "4dd7f89b-b742-4dad-d845-05f35602d7a6"
      },
      "execution_count": null,
      "outputs": [
        {
          "output_type": "display_data",
          "data": {
            "text/plain": [
              "<Figure size 640x480 with 1 Axes>"
            ],
            "image/png": "[encoded data removed]"
          },
          "metadata": {}
        }
      ]
    },
    {
      "cell_type": "code",
      "source": [
        "plt.hist(fabrica2, bins = 10, alpha = 0.2, color = 'b', edgecolor = \"black\")\n",
        "plt.axvline(media2, color = 'b', linestyle = 'dashed', linewidth = 2, label = 'Media')\n",
        "plt.axvline(mediana2, color = 'r', linestyle = 'dashed', linewidth = 2, label = 'Mediana')\n",
        "plt.axvline(moda2, color = 'y', linestyle = 'dashed', linewidth = 2, label = 'Moda')\n",
        "plt.xlabel('Valor')\n",
        "plt.ylabel('Frecuencia')\n",
        "plt.title(\"Producción diaria de la fábrica 2\")\n",
        "plt.legend()\n",
        "plt.show()"
      ],
      "metadata": {
        "colab": {
          "base_uri": "https://localhost:8080/",
          "height": 472
        },
        "id": "PsuZp_0bpOWA",
        "outputId": "33047a36-6741-44da-edcd-dc11d00f3d7c"
      },
      "execution_count": null,
      "outputs": [
        {
          "output_type": "display_data",
          "data": {
            "text/plain": [
              "<Figure size 640x480 with 1 Axes>"
            ],
            "image/png": "[encoded data removed]"
          },
          "metadata": {}
        }
      ]
    }
  ]
}